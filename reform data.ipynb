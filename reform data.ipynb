{
 "cells": [
  {
   "cell_type": "code",
   "execution_count": 46,
   "id": "f4bf6788",
   "metadata": {},
   "outputs": [],
   "source": [
    "from __future__ import division\n",
    "import csv\n",
    "import numpy as np\n",
    "import matplotlib.pylab as plt\n",
    "from scipy.signal import resample\n",
    "import mne\n",
    "import pandas as pd\n",
    "import seaborn as sns\n",
    "from scipy.signal import hilbert\n",
    "#from utils import circular_histogram\n",
    "import pycircstat\n",
    "import os\n",
    "from datetime import datetime\n",
    "# Authors: Alexandre Gramfort <alexandre.gramfort@inria.fr>\n",
    "#          Stanislas Chambon <stan.chambon@gmail.com>\n",
    "#          Joan Massich <mailsik@gmail.com>\n",
    "#\n",
    "# License: BSD Style.\n",
    "\n",
    "import numpy as np\n",
    "import matplotlib.pyplot as plt\n",
    "\n",
    "import mne\n",
    "from mne.datasets.sleep_physionet.age import fetch_data\n",
    "from mne.time_frequency import psd_welch\n",
    "\n",
    "from sklearn.ensemble import RandomForestClassifier\n",
    "from sklearn.metrics import accuracy_score\n",
    "from sklearn.metrics import confusion_matrix\n",
    "from sklearn.metrics import classification_report\n",
    "from sklearn.pipeline import make_pipeline\n",
    "from sklearn.preprocessing import FunctionTransformer\n",
    "from sklearn import preprocessing"
   ]
  },
  {
   "cell_type": "code",
   "execution_count": 47,
   "id": "cbce466c",
   "metadata": {},
   "outputs": [],
   "source": [
    "file_dir='D:/IM 680/byteflies_dots/'"
   ]
  },
  {
   "cell_type": "code",
   "execution_count": 48,
   "id": "ba0018a5",
   "metadata": {},
   "outputs": [],
   "source": [
    "patient_id=1351;duration=30;"
   ]
  },
  {
   "cell_type": "code",
   "execution_count": 49,
   "id": "282f46ac",
   "metadata": {},
   "outputs": [],
   "source": [
    "patient_list=[1351,2510,2939,4301,5852,5995,7257,7838,7488,8898]"
   ]
  },
  {
   "cell_type": "code",
   "execution_count": 50,
   "id": "852a623f",
   "metadata": {},
   "outputs": [],
   "source": [
    "def data_reform(patient_id,duration): \n",
    "    data = pd.read_csv( os.path.join(file_dir, str(patient_id)+'.csv')) \n",
    "\n",
    "    data=data[data['Sleep stage code']!=99]\n",
    "\n",
    "    data.rename(columns={'Unnamed: 0':'SUBJID'},inplace=True)\n",
    "\n",
    "    data['SUBJID']=patient_id\n",
    "\n",
    "    data['Sleep stage code'].values\n",
    "\n",
    "    sample1=data.iloc[:,3:-1]\n",
    "\n",
    "    x = sample1.values #returns a numpy array\n",
    "    min_max_scaler = preprocessing.MinMaxScaler(feature_range= (-1,1))\n",
    "    x_scaled = min_max_scaler.fit_transform(x)\n",
    "    df = pd.DataFrame(x_scaled)\n",
    "\n",
    "    int(len(sample1)/duration)\n",
    "\n",
    "    reformed_xdata=[]\n",
    "    reformed_ydata=[]\n",
    "    duration=duration*100;\n",
    "    for i in range(int(len(sample1)/duration)):\n",
    "        reformed_xdata.append(x_scaled[duration*i:duration*(i+1)])\n",
    "        reformed_ydata.append(data['Sleep stage code'].values[i*duration])\n",
    "    return reformed_xdata,reformed_ydata"
   ]
  },
  {
   "cell_type": "code",
   "execution_count": 53,
   "id": "4ebb888b",
   "metadata": {},
   "outputs": [],
   "source": [
    "reformed_xdata=[]\n",
    "reformed_ydata=[]\n",
    "for i in patient_list:\n",
    "    x, y = data_reform(patient_id,duration)\n",
    "    reformed_xdata += x\n",
    "    reformed_ydata += y"
   ]
  },
  {
   "cell_type": "code",
   "execution_count": 54,
   "id": "ab2d04c5",
   "metadata": {},
   "outputs": [
    {
     "data": {
      "text/plain": [
       "9820"
      ]
     },
     "execution_count": 54,
     "metadata": {},
     "output_type": "execute_result"
    }
   ],
   "source": [
    "len(reformed_xdata)"
   ]
  },
  {
   "cell_type": "code",
   "execution_count": 55,
   "id": "6204142b",
   "metadata": {},
   "outputs": [],
   "source": [
    "lb = preprocessing.LabelBinarizer()\n"
   ]
  },
  {
   "cell_type": "code",
   "execution_count": 56,
   "id": "4d42d9b1",
   "metadata": {},
   "outputs": [
    {
     "data": {
      "text/plain": [
       "LabelBinarizer()"
      ]
     },
     "execution_count": 56,
     "metadata": {},
     "output_type": "execute_result"
    }
   ],
   "source": [
    "lb.fit(reformed_ydata)"
   ]
  },
  {
   "cell_type": "code",
   "execution_count": 57,
   "id": "f2f973bf",
   "metadata": {},
   "outputs": [
    {
     "data": {
      "text/plain": [
       "array([0, 1, 2, 3, 4], dtype=int64)"
      ]
     },
     "execution_count": 57,
     "metadata": {},
     "output_type": "execute_result"
    }
   ],
   "source": [
    "lb.classes_"
   ]
  },
  {
   "cell_type": "code",
   "execution_count": 58,
   "id": "a191d433",
   "metadata": {},
   "outputs": [],
   "source": [
    "reformed_ydata_binary=lb.transform(reformed_ydata)"
   ]
  },
  {
   "cell_type": "code",
   "execution_count": 16,
   "id": "73ae31bc",
   "metadata": {},
   "outputs": [],
   "source": [
    "np.save('SleepySignals_X.npy', reformed_xdata)    # .npy extension is added if not given"
   ]
  },
  {
   "cell_type": "code",
   "execution_count": 17,
   "id": "caac0c7c",
   "metadata": {},
   "outputs": [],
   "source": [
    "np.save('SleepySignals_y.npy', reformed_ydata)"
   ]
  },
  {
   "cell_type": "code",
   "execution_count": 59,
   "id": "c18219cc",
   "metadata": {},
   "outputs": [],
   "source": [
    "import warnings\n",
    "warnings.filterwarnings(\"ignore\")\n",
    "warnings.simplefilter(action='ignore', category=FutureWarning)\n",
    "warnings.simplefilter(action='ignore', category=UserWarning)\n",
    "\n",
    "import itertools\n",
    "from datetime import datetime\n",
    "import numpy as np\n",
    "import pandas as pd\n",
    "import matplotlib.pyplot as plt\n",
    "plt.rcParams[\"font.family\"] = 'DejaVu Sans'\n",
    "import seaborn as sns\n",
    "\n",
    "# To be able to save images on server\n",
    "import matplotlib\n",
    "%matplotlib inline\n",
    "from matplotlib import pyplot\n",
    "\n",
    "from sklearn.manifold import TSNE\n",
    "from sklearn.metrics import confusion_matrix\n",
    "from sklearn import linear_model\n",
    "from sklearn import metrics\n",
    "from sklearn.model_selection import GridSearchCV\n",
    "from sklearn.svm import LinearSVC\n",
    "from sklearn.svm import SVC\n",
    "from sklearn.tree import DecisionTreeClassifier\n",
    "from sklearn.ensemble import RandomForestClassifier\n",
    "from sklearn.ensemble import GradientBoostingClassifier\n",
    "\n",
    "# Importing tensorflow\n",
    "np.random.seed(42)\n",
    "import tensorflow as tf\n",
    "\n",
    "\n",
    "from keras import backend as K\n",
    "from keras.models import Sequential\n",
    "from keras.layers import LSTM , BatchNormalization\n",
    "from keras.layers.core import Dense, Dropout\n",
    "from keras.regularizers import L1L2\n",
    "from sklearn.model_selection import train_test_split"
   ]
  },
  {
   "cell_type": "code",
   "execution_count": 99,
   "id": "092267b9",
   "metadata": {},
   "outputs": [],
   "source": [
    "xdata=np.asarray(reformed_xdata)"
   ]
  },
  {
   "cell_type": "code",
   "execution_count": 100,
   "id": "e6f39688",
   "metadata": {},
   "outputs": [],
   "source": [
    "x_train, x_test, y_train, y_test = train_test_split(xdata, reformed_ydata_binary, test_size=0.2, random_state=42)"
   ]
  },
  {
   "cell_type": "code",
   "execution_count": 101,
   "id": "979c1030",
   "metadata": {},
   "outputs": [],
   "source": [
    "timesteps = len(x_train[0])\n",
    "input_dim = len(x_train[0][0])\n",
    "n_classes = len(y_train[0])"
   ]
  },
  {
   "cell_type": "code",
   "execution_count": 102,
   "id": "79c1591b",
   "metadata": {},
   "outputs": [
    {
     "name": "stdout",
     "output_type": "stream",
     "text": [
      "3000\n",
      "16\n",
      "7856\n",
      "7856\n"
     ]
    }
   ],
   "source": [
    "print(timesteps)\n",
    "print(input_dim)\n",
    "print(len(x_train))\n",
    "print(len(y_train))"
   ]
  },
  {
   "cell_type": "code",
   "execution_count": 103,
   "id": "5f2f4fe7",
   "metadata": {},
   "outputs": [],
   "source": [
    "# Initializing parameters\n",
    "epochs = 30\n",
    "batch_size = 16\n",
    "n_hidden = 32"
   ]
  },
  {
   "cell_type": "code",
   "execution_count": 104,
   "id": "f19880b9",
   "metadata": {},
   "outputs": [
    {
     "name": "stdout",
     "output_type": "stream",
     "text": [
      "Model: \"sequential_5\"\n",
      "_________________________________________________________________\n",
      "Layer (type)                 Output Shape              Param #   \n",
      "=================================================================\n",
      "lstm_4 (LSTM)                (None, 32)                6272      \n",
      "_________________________________________________________________\n",
      "dropout_3 (Dropout)          (None, 32)                0         \n",
      "_________________________________________________________________\n",
      "dense_4 (Dense)              (None, 5)                 165       \n",
      "=================================================================\n",
      "Total params: 6,437\n",
      "Trainable params: 6,437\n",
      "Non-trainable params: 0\n",
      "_________________________________________________________________\n"
     ]
    }
   ],
   "source": [
    "# Initiliazing the sequential model\n",
    "model = Sequential()\n",
    "# Configuring the parameters\n",
    "model.add(LSTM(n_hidden, input_shape=(timesteps, input_dim)))\n",
    "# Adding a dropout layer\n",
    "model.add(Dropout(0.5))\n",
    "# Adding a dense output layer with sigmoid activation\n",
    "model.add(Dense(n_classes, activation='sigmoid'))\n",
    "model.summary()"
   ]
  },
  {
   "cell_type": "code",
   "execution_count": 105,
   "id": "37cfb9e5",
   "metadata": {},
   "outputs": [],
   "source": [
    "model.compile(loss='categorical_crossentropy',\n",
    "              optimizer='rmsprop',\n",
    "              metrics=['accuracy'])"
   ]
  },
  {
   "cell_type": "code",
   "execution_count": null,
   "id": "0121b028",
   "metadata": {},
   "outputs": [
    {
     "name": "stdout",
     "output_type": "stream",
     "text": [
      "Epoch 1/30\n",
      "491/491 [==============================] - 491s 995ms/step - loss: 1.0444 - accuracy: 0.6295 - val_loss: 0.8885 - val_accuracy: 0.6904\n",
      "Epoch 2/30\n",
      "491/491 [==============================] - 5199s 11s/step - loss: 0.9052 - accuracy: 0.6852 - val_loss: 0.8157 - val_accuracy: 0.6792\n",
      "Epoch 3/30\n",
      "491/491 [==============================] - 473s 963ms/step - loss: 0.8521 - accuracy: 0.7021 - val_loss: 0.7397 - val_accuracy: 0.7301\n",
      "Epoch 4/30\n",
      "491/491 [==============================] - 6102s 12s/step - loss: 0.8349 - accuracy: 0.7127 - val_loss: 0.8422 - val_accuracy: 0.6782\n",
      "Epoch 5/30\n",
      "491/491 [==============================] - 474s 965ms/step - loss: 0.8183 - accuracy: 0.7047 - val_loss: 0.7161 - val_accuracy: 0.7709\n",
      "Epoch 6/30\n",
      " 68/491 [===>..........................] - ETA: 15:47:56 - loss: 0.7730 - accuracy: 0.7197"
     ]
    }
   ],
   "source": [
    "model.fit(x_train,\n",
    "          y_train,\n",
    "          batch_size=batch_size,\n",
    "          validation_data=(x_test, y_test),\n",
    "          epochs=epochs)"
   ]
  },
  {
   "cell_type": "code",
   "execution_count": null,
   "id": "aff524da",
   "metadata": {},
   "outputs": [],
   "source": []
  }
 ],
 "metadata": {
  "kernelspec": {
   "display_name": "Python 3",
   "language": "python",
   "name": "python3"
  },
  "language_info": {
   "codemirror_mode": {
    "name": "ipython",
    "version": 3
   },
   "file_extension": ".py",
   "mimetype": "text/x-python",
   "name": "python",
   "nbconvert_exporter": "python",
   "pygments_lexer": "ipython3",
   "version": "3.8.8"
  }
 },
 "nbformat": 4,
 "nbformat_minor": 5
}
